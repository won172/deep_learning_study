{
 "cells": [
  {
   "cell_type": "markdown",
   "id": "05eb3279",
   "metadata": {},
   "source": [
    "## 2장 퍼셉트론\n",
    "## 2.3 퍼셉트론 구현하기\n",
    "### 2.3.1 간단한 구현부터"
   ]
  },
  {
   "cell_type": "code",
   "execution_count": 42,
   "id": "81706842",
   "metadata": {
    "ExecuteTime": {
     "end_time": "2025-01-17T06:14:20.427150Z",
     "start_time": "2025-01-17T06:14:20.422527Z"
    }
   },
   "outputs": [],
   "source": [
    "# x1과 x2를 인수로 받는 AND 함수\n",
    "def AND(x1, x2):\n",
    "    w1, w2, theta = 0.5, 0.5, 0.7\n",
    "    tmp = x1*w1 + x2*w2\n",
    "    if tmp <= theta:\n",
    "        return 0\n",
    "    elif tmp > theta:\n",
    "        return 1"
   ]
  },
  {
   "cell_type": "code",
   "execution_count": 43,
   "id": "179d23dd",
   "metadata": {
    "ExecuteTime": {
     "end_time": "2025-01-17T06:14:20.593241Z",
     "start_time": "2025-01-17T06:14:20.588075Z"
    }
   },
   "outputs": [
    {
     "data": {
      "text/plain": [
       "0"
      ]
     },
     "execution_count": 43,
     "metadata": {},
     "output_type": "execute_result"
    }
   ],
   "source": [
    "AND(0,0) "
   ]
  },
  {
   "cell_type": "code",
   "execution_count": 44,
   "id": "d0a81674",
   "metadata": {
    "ExecuteTime": {
     "end_time": "2025-01-17T06:14:20.755167Z",
     "start_time": "2025-01-17T06:14:20.750033Z"
    }
   },
   "outputs": [
    {
     "data": {
      "text/plain": [
       "0"
      ]
     },
     "execution_count": 44,
     "metadata": {},
     "output_type": "execute_result"
    }
   ],
   "source": [
    "AND(1,0)"
   ]
  },
  {
   "cell_type": "code",
   "execution_count": 45,
   "id": "40b2ea23",
   "metadata": {
    "ExecuteTime": {
     "end_time": "2025-01-17T06:14:20.911682Z",
     "start_time": "2025-01-17T06:14:20.905835Z"
    }
   },
   "outputs": [
    {
     "data": {
      "text/plain": [
       "0"
      ]
     },
     "execution_count": 45,
     "metadata": {},
     "output_type": "execute_result"
    }
   ],
   "source": [
    "AND(0,1)"
   ]
  },
  {
   "cell_type": "code",
   "execution_count": 46,
   "id": "c2caea5f",
   "metadata": {
    "ExecuteTime": {
     "end_time": "2025-01-17T06:14:21.107221Z",
     "start_time": "2025-01-17T06:14:21.101313Z"
    }
   },
   "outputs": [
    {
     "data": {
      "text/plain": [
       "1"
      ]
     },
     "execution_count": 46,
     "metadata": {},
     "output_type": "execute_result"
    }
   ],
   "source": [
    "AND(1,1)"
   ]
  },
  {
   "cell_type": "markdown",
   "id": "55c0b178",
   "metadata": {},
   "source": [
    "### 2.3.2 가중치와 편향 도입"
   ]
  },
  {
   "cell_type": "code",
   "execution_count": 47,
   "id": "95029a07",
   "metadata": {
    "ExecuteTime": {
     "end_time": "2025-01-17T06:14:21.970088Z",
     "start_time": "2025-01-17T06:14:21.961104Z"
    }
   },
   "outputs": [
    {
     "data": {
      "text/plain": [
       "array([0. , 0.5])"
      ]
     },
     "execution_count": 47,
     "metadata": {},
     "output_type": "execute_result"
    }
   ],
   "source": [
    "# 편향과 가중치를 도입한 구현\n",
    "import numpy as np\n",
    "x = np.array([0, 1]) # 입력\n",
    "w = np.array([0.5, 0.5]) # 가중치\n",
    "b = -0.7 # 편향\n",
    "w*x"
   ]
  },
  {
   "cell_type": "code",
   "execution_count": 48,
   "id": "59367e81",
   "metadata": {
    "ExecuteTime": {
     "end_time": "2025-01-17T06:14:22.156139Z",
     "start_time": "2025-01-17T06:14:22.150022Z"
    }
   },
   "outputs": [
    {
     "data": {
      "text/plain": [
       "0.5"
      ]
     },
     "execution_count": 48,
     "metadata": {},
     "output_type": "execute_result"
    }
   ],
   "source": [
    "np.sum(w*x)"
   ]
  },
  {
   "cell_type": "code",
   "execution_count": 49,
   "id": "c49f9fab",
   "metadata": {
    "ExecuteTime": {
     "end_time": "2025-01-17T06:14:22.347789Z",
     "start_time": "2025-01-17T06:14:22.342863Z"
    }
   },
   "outputs": [
    {
     "data": {
      "text/plain": [
       "-0.19999999999999996"
      ]
     },
     "execution_count": 49,
     "metadata": {},
     "output_type": "execute_result"
    }
   ],
   "source": [
    "np.sum(w*x)+b\n",
    "# 약 -0.2의 값"
   ]
  },
  {
   "cell_type": "markdown",
   "id": "424b62b8",
   "metadata": {},
   "source": [
    "### 가중치와 편향 구현하기 "
   ]
  },
  {
   "cell_type": "code",
   "execution_count": 50,
   "id": "c968f483",
   "metadata": {
    "ExecuteTime": {
     "end_time": "2025-01-17T06:14:22.888186Z",
     "start_time": "2025-01-17T06:14:22.881996Z"
    }
   },
   "outputs": [],
   "source": [
    "# AND 게이트\n",
    "def AND(x1, x2):\n",
    "    x = np.array([x1, x2])\n",
    "    w = np.array([0.5, 0.5])\n",
    "    b = -0.7\n",
    "    tmp = np.sum(w*x) + b\n",
    "    if tmp <= 0:\n",
    "        return 0\n",
    "    else:\n",
    "        return 1\n",
    "\n",
    "# -theta가 편향 b로 치환됨"
   ]
  },
  {
   "cell_type": "code",
   "execution_count": 51,
   "id": "6b70e577",
   "metadata": {
    "ExecuteTime": {
     "end_time": "2025-01-17T06:14:23.392759Z",
     "start_time": "2025-01-17T06:14:23.387317Z"
    }
   },
   "outputs": [],
   "source": [
    "# NAND 게이트\n",
    "def NAND(x1, x2):\n",
    "    x = np.array([x1, x2])\n",
    "    w = np.array([-0.5, 0.5])\n",
    "    b = 0.7\n",
    "    tmp = np.sum(w*x)+b\n",
    "    if tmp <= 0:\n",
    "        return 0\n",
    "    else:\n",
    "        return 1"
   ]
  },
  {
   "cell_type": "code",
   "execution_count": 52,
   "id": "1ecfe934",
   "metadata": {
    "ExecuteTime": {
     "end_time": "2025-01-17T06:14:23.772589Z",
     "start_time": "2025-01-17T06:14:23.767450Z"
    }
   },
   "outputs": [],
   "source": [
    "# OR 게이트\n",
    "def OR(x1, x2):\n",
    "    x = np.array([x1, x2])\n",
    "    w = np.array([0.5, 0.5])\n",
    "    b = -0.2\n",
    "    tmp = np.sum(w*x) + b\n",
    "    if tmp <= 0:\n",
    "        return 0\n",
    "    else:\n",
    "        return 1   "
   ]
  },
  {
   "cell_type": "markdown",
   "id": "4d9c0e71",
   "metadata": {},
   "source": [
    "### 2.5.2 XOR 게이트 구현하기"
   ]
  },
  {
   "cell_type": "code",
   "execution_count": 53,
   "id": "b64b4ce0",
   "metadata": {
    "ExecuteTime": {
     "end_time": "2025-01-17T06:14:24.291210Z",
     "start_time": "2025-01-17T06:14:24.285985Z"
    }
   },
   "outputs": [],
   "source": [
    "# AND, NAND, OR 게이트 조합\n",
    "def XOR(x1, x2):\n",
    "    s1 = NAND(x1, x2)\n",
    "    s2 = OR(x1, x2)\n",
    "    y = AND(s1, s2)\n",
    "    return y"
   ]
  },
  {
   "cell_type": "code",
   "execution_count": 54,
   "id": "f44bb224",
   "metadata": {
    "ExecuteTime": {
     "end_time": "2025-01-17T06:14:24.602894Z",
     "start_time": "2025-01-17T06:14:24.598240Z"
    }
   },
   "outputs": [
    {
     "data": {
      "text/plain": [
       "0"
      ]
     },
     "execution_count": 54,
     "metadata": {},
     "output_type": "execute_result"
    }
   ],
   "source": [
    "XOR(0,0)"
   ]
  },
  {
   "cell_type": "code",
   "execution_count": 55,
   "id": "8adcf723",
   "metadata": {
    "ExecuteTime": {
     "end_time": "2025-01-17T06:14:24.910102Z",
     "start_time": "2025-01-17T06:14:24.905102Z"
    }
   },
   "outputs": [
    {
     "data": {
      "text/plain": [
       "1"
      ]
     },
     "execution_count": 55,
     "metadata": {},
     "output_type": "execute_result"
    }
   ],
   "source": [
    "XOR(1,0)"
   ]
  },
  {
   "cell_type": "code",
   "execution_count": 56,
   "id": "73547d7e",
   "metadata": {
    "ExecuteTime": {
     "end_time": "2025-01-17T06:14:25.099961Z",
     "start_time": "2025-01-17T06:14:25.094596Z"
    }
   },
   "outputs": [
    {
     "data": {
      "text/plain": [
       "1"
      ]
     },
     "execution_count": 56,
     "metadata": {},
     "output_type": "execute_result"
    }
   ],
   "source": [
    "XOR(0,1)"
   ]
  },
  {
   "cell_type": "code",
   "execution_count": 57,
   "id": "b0028045",
   "metadata": {
    "ExecuteTime": {
     "end_time": "2025-01-17T06:14:25.455471Z",
     "start_time": "2025-01-17T06:14:25.450119Z"
    }
   },
   "outputs": [
    {
     "data": {
      "text/plain": [
       "1"
      ]
     },
     "execution_count": 57,
     "metadata": {},
     "output_type": "execute_result"
    }
   ],
   "source": [
    "XOR(1,1)"
   ]
  },
  {
   "cell_type": "markdown",
   "id": "3dbb0448",
   "metadata": {},
   "source": [
    "# 3장 신경망\n",
    "# 3.2 활성화 함수\n",
    "## 3.2.2 계단 함수 구현하기"
   ]
  },
  {
   "cell_type": "code",
   "execution_count": 58,
   "id": "67cec84b",
   "metadata": {
    "ExecuteTime": {
     "end_time": "2025-01-17T06:15:56.483996Z",
     "start_time": "2025-01-17T06:15:56.480466Z"
    }
   },
   "outputs": [],
   "source": [
    "def step_function(x):\n",
    "    if x > 0:\n",
    "        return 1\n",
    "    else:\n",
    "        return 0"
   ]
  },
  {
   "cell_type": "code",
   "execution_count": 59,
   "id": "20d242a0",
   "metadata": {
    "ExecuteTime": {
     "end_time": "2025-01-17T06:16:27.905920Z",
     "start_time": "2025-01-17T06:16:27.901393Z"
    }
   },
   "outputs": [],
   "source": [
    "def step_function(x):\n",
    "    y = x > 0\n",
    "    return y.astype(np.int)"
   ]
  },
  {
   "cell_type": "code",
   "execution_count": 60,
   "id": "bcae719c",
   "metadata": {
    "ExecuteTime": {
     "end_time": "2025-01-17T06:17:43.657036Z",
     "start_time": "2025-01-17T06:17:43.650300Z"
    }
   },
   "outputs": [
    {
     "data": {
      "text/plain": [
       "array([-1.,  1.,  2.])"
      ]
     },
     "execution_count": 60,
     "metadata": {},
     "output_type": "execute_result"
    }
   ],
   "source": [
    "import numpy as np\n",
    "x = np.array([-1.0, 1.0, 2.0])\n",
    "x"
   ]
  },
  {
   "cell_type": "code",
   "execution_count": 61,
   "id": "6c854107",
   "metadata": {
    "ExecuteTime": {
     "end_time": "2025-01-17T06:17:51.232123Z",
     "start_time": "2025-01-17T06:17:51.227426Z"
    }
   },
   "outputs": [
    {
     "data": {
      "text/plain": [
       "array([False,  True,  True])"
      ]
     },
     "execution_count": 61,
     "metadata": {},
     "output_type": "execute_result"
    }
   ],
   "source": [
    "y = x > 0\n",
    "y"
   ]
  },
  {
   "cell_type": "code",
   "execution_count": 64,
   "id": "a657020a",
   "metadata": {
    "ExecuteTime": {
     "end_time": "2025-01-17T06:19:21.566187Z",
     "start_time": "2025-01-17T06:19:21.549102Z"
    }
   },
   "outputs": [
    {
     "data": {
      "text/plain": [
       "array([0, 1, 1])"
      ]
     },
     "execution_count": 64,
     "metadata": {},
     "output_type": "execute_result"
    }
   ],
   "source": [
    "y = y.astype(np.int32)\n",
    "y"
   ]
  },
  {
   "cell_type": "markdown",
   "id": "9f6268a0",
   "metadata": {},
   "source": [
    "### 3.2.3 계단 함수의 그래프"
   ]
  },
  {
   "cell_type": "code",
   "execution_count": 66,
   "id": "29152edb",
   "metadata": {
    "ExecuteTime": {
     "end_time": "2025-01-17T06:21:39.372477Z",
     "start_time": "2025-01-17T06:21:39.169127Z"
    }
   },
   "outputs": [
    {
     "data": {
      "image/png": "[encoded data removed]",
      "text/plain": [
       "<Figure size 640x480 with 1 Axes>"
      ]
     },
     "metadata": {},
     "output_type": "display_data"
    }
   ],
   "source": [
    "import numpy as np\n",
    "import matplotlib.pylab as plt\n",
    "\n",
    "def step_function(x):\n",
    "    return np.array(x>0, dtype=np.int32)\n",
    "\n",
    "x = np.arange(-5.0, 5.0, 0.1)\n",
    "y = step_function(x)\n",
    "plt.plot(x, y)\n",
    "plt.ylim(-0.1, 1.1)\n",
    "plt.show()"
   ]
  },
  {
   "cell_type": "markdown",
   "id": "cb3fb477",
   "metadata": {},
   "source": [
    "### 3.2.4 시그모이드 함수 구현하기"
   ]
  },
  {
   "cell_type": "code",
   "execution_count": 67,
   "id": "91e285d2",
   "metadata": {
    "ExecuteTime": {
     "end_time": "2025-01-17T06:26:11.885459Z",
     "start_time": "2025-01-17T06:26:11.881659Z"
    }
   },
   "outputs": [],
   "source": [
    "def sigmoid(x):\n",
    "    return 1 / (1+np.exp(-x))"
   ]
  },
  {
   "cell_type": "code",
   "execution_count": 68,
   "id": "be46559b",
   "metadata": {
    "ExecuteTime": {
     "end_time": "2025-01-17T06:26:29.935145Z",
     "start_time": "2025-01-17T06:26:29.918447Z"
    }
   },
   "outputs": [
    {
     "data": {
      "text/plain": [
       "array([0.26894142, 0.73105858, 0.88079708])"
      ]
     },
     "execution_count": 68,
     "metadata": {},
     "output_type": "execute_result"
    }
   ],
   "source": [
    "x = np.array([-1.0, 1.0, 2.0])\n",
    "sigmoid(x)"
   ]
  },
  {
   "cell_type": "code",
   "execution_count": 70,
   "id": "0fcbe092",
   "metadata": {
    "ExecuteTime": {
     "end_time": "2025-01-17T06:27:36.686700Z",
     "start_time": "2025-01-17T06:27:36.681712Z"
    }
   },
   "outputs": [
    {
     "data": {
      "text/plain": [
       "array([2., 3., 4.])"
      ]
     },
     "execution_count": 70,
     "metadata": {},
     "output_type": "execute_result"
    }
   ],
   "source": [
    "t = np.array([1.0, 2.0, 3.0])\n",
    "1.0 + t"
   ]
  },
  {
   "cell_type": "code",
   "execution_count": 71,
   "id": "e0107d59",
   "metadata": {
    "ExecuteTime": {
     "end_time": "2025-01-17T06:27:42.455988Z",
     "start_time": "2025-01-17T06:27:42.450106Z"
    }
   },
   "outputs": [
    {
     "data": {
      "text/plain": [
       "array([1.        , 0.5       , 0.33333333])"
      ]
     },
     "execution_count": 71,
     "metadata": {},
     "output_type": "execute_result"
    }
   ],
   "source": [
    "1.0 / t"
   ]
  },
  {
   "cell_type": "code",
   "execution_count": 73,
   "id": "674dda05",
   "metadata": {
    "ExecuteTime": {
     "end_time": "2025-01-17T06:28:45.830874Z",
     "start_time": "2025-01-17T06:28:45.746331Z"
    }
   },
   "outputs": [
    {
     "data": {
      "image/png": "[encoded data removed]",
      "text/plain": [
       "<Figure size 640x480 with 1 Axes>"
      ]
     },
     "metadata": {},
     "output_type": "display_data"
    }
   ],
   "source": [
    "x = np.arange(-5.0, 5.0, 0.1)\n",
    "y = sigmoid(x)\n",
    "plt.plot(x, y)\n",
    "plt.ylim(-0.1, 1.1)\n",
    "plt.show()"
   ]
  },
  {
   "cell_type": "markdown",
   "id": "a8fefcba",
   "metadata": {},
   "source": [
    "## 3.3 다차원 배열의 계산\n",
    "### 3.3.1 다차원 배열"
   ]
  },
  {
   "cell_type": "code",
   "execution_count": 74,
   "id": "4da90f65",
   "metadata": {
    "ExecuteTime": {
     "end_time": "2025-01-17T06:29:38.985243Z",
     "start_time": "2025-01-17T06:29:38.979337Z"
    }
   },
   "outputs": [
    {
     "name": "stdout",
     "output_type": "stream",
     "text": [
      "[1 2 3 4]\n"
     ]
    }
   ],
   "source": [
    "import numpy as np\n",
    "A = np.array([1,2,3,4])\n",
    "print(A)"
   ]
  },
  {
   "cell_type": "code",
   "execution_count": 75,
   "id": "8d2cd6c9",
   "metadata": {
    "ExecuteTime": {
     "end_time": "2025-01-17T06:29:44.327852Z",
     "start_time": "2025-01-17T06:29:44.321373Z"
    }
   },
   "outputs": [
    {
     "data": {
      "text/plain": [
       "1"
      ]
     },
     "execution_count": 75,
     "metadata": {},
     "output_type": "execute_result"
    }
   ],
   "source": [
    "np.ndim(A)"
   ]
  },
  {
   "cell_type": "code",
   "execution_count": 76,
   "id": "053a94cb",
   "metadata": {
    "ExecuteTime": {
     "end_time": "2025-01-17T06:29:50.328509Z",
     "start_time": "2025-01-17T06:29:50.323242Z"
    }
   },
   "outputs": [
    {
     "data": {
      "text/plain": [
       "(4,)"
      ]
     },
     "execution_count": 76,
     "metadata": {},
     "output_type": "execute_result"
    }
   ],
   "source": [
    "A.shape"
   ]
  },
  {
   "cell_type": "code",
   "execution_count": 77,
   "id": "429d038d",
   "metadata": {
    "ExecuteTime": {
     "end_time": "2025-01-17T06:29:54.756379Z",
     "start_time": "2025-01-17T06:29:54.752378Z"
    }
   },
   "outputs": [
    {
     "data": {
      "text/plain": [
       "4"
      ]
     },
     "execution_count": 77,
     "metadata": {},
     "output_type": "execute_result"
    }
   ],
   "source": [
    "A.shape[0]"
   ]
  },
  {
   "cell_type": "code",
   "execution_count": 78,
   "id": "b3800947",
   "metadata": {
    "ExecuteTime": {
     "end_time": "2025-01-17T06:30:22.862818Z",
     "start_time": "2025-01-17T06:30:22.858480Z"
    }
   },
   "outputs": [
    {
     "name": "stdout",
     "output_type": "stream",
     "text": [
      "[[1 2]\n",
      " [3 4]\n",
      " [5 6]]\n"
     ]
    }
   ],
   "source": [
    "B = np.array([[1,2], [3,4], [5,6]])\n",
    "print(B)"
   ]
  },
  {
   "cell_type": "code",
   "execution_count": 79,
   "id": "523ff83d",
   "metadata": {
    "ExecuteTime": {
     "end_time": "2025-01-17T06:30:27.015980Z",
     "start_time": "2025-01-17T06:30:27.009710Z"
    }
   },
   "outputs": [
    {
     "data": {
      "text/plain": [
       "2"
      ]
     },
     "execution_count": 79,
     "metadata": {},
     "output_type": "execute_result"
    }
   ],
   "source": [
    "np.ndim(B)"
   ]
  },
  {
   "cell_type": "code",
   "execution_count": 80,
   "id": "c26484d3",
   "metadata": {
    "ExecuteTime": {
     "end_time": "2025-01-17T06:30:30.770697Z",
     "start_time": "2025-01-17T06:30:30.764393Z"
    }
   },
   "outputs": [
    {
     "data": {
      "text/plain": [
       "(3, 2)"
      ]
     },
     "execution_count": 80,
     "metadata": {},
     "output_type": "execute_result"
    }
   ],
   "source": [
    "B.shape"
   ]
  },
  {
   "cell_type": "markdown",
   "id": "abda37ed",
   "metadata": {},
   "source": [
    "### 3.3.2 행렬의 곱"
   ]
  },
  {
   "cell_type": "code",
   "execution_count": 81,
   "id": "505d6e33",
   "metadata": {
    "ExecuteTime": {
     "end_time": "2025-01-17T06:31:03.447090Z",
     "start_time": "2025-01-17T06:31:03.442845Z"
    }
   },
   "outputs": [
    {
     "data": {
      "text/plain": [
       "(2, 2)"
      ]
     },
     "execution_count": 81,
     "metadata": {},
     "output_type": "execute_result"
    }
   ],
   "source": [
    "A = np.array([[1,2],[3,4]])\n",
    "A.shape"
   ]
  },
  {
   "cell_type": "code",
   "execution_count": 83,
   "id": "767fba98",
   "metadata": {
    "ExecuteTime": {
     "end_time": "2025-01-17T06:31:21.037396Z",
     "start_time": "2025-01-17T06:31:21.032285Z"
    }
   },
   "outputs": [
    {
     "data": {
      "text/plain": [
       "(2, 2)"
      ]
     },
     "execution_count": 83,
     "metadata": {},
     "output_type": "execute_result"
    }
   ],
   "source": [
    "B = np.array([[5,6],[7,8]])\n",
    "B.shape"
   ]
  },
  {
   "cell_type": "code",
   "execution_count": 84,
   "id": "a198ecfe",
   "metadata": {
    "ExecuteTime": {
     "end_time": "2025-01-17T06:32:20.404466Z",
     "start_time": "2025-01-17T06:32:20.399153Z"
    }
   },
   "outputs": [
    {
     "data": {
      "text/plain": [
       "array([[19, 22],\n",
       "       [43, 50]])"
      ]
     },
     "execution_count": 84,
     "metadata": {},
     "output_type": "execute_result"
    }
   ],
   "source": [
    "np.dot(A,B)"
   ]
  },
  {
   "cell_type": "code",
   "execution_count": 85,
   "id": "569cc76e",
   "metadata": {
    "ExecuteTime": {
     "end_time": "2025-01-17T06:32:38.455042Z",
     "start_time": "2025-01-17T06:32:38.448968Z"
    }
   },
   "outputs": [
    {
     "data": {
      "text/plain": [
       "(2, 3)"
      ]
     },
     "execution_count": 85,
     "metadata": {},
     "output_type": "execute_result"
    }
   ],
   "source": [
    "A = np.array([[1,2,3],[4,5,6]])\n",
    "A.shape"
   ]
  },
  {
   "cell_type": "code",
   "execution_count": 86,
   "id": "5d3a7179",
   "metadata": {
    "ExecuteTime": {
     "end_time": "2025-01-17T06:33:07.865053Z",
     "start_time": "2025-01-17T06:33:07.858535Z"
    }
   },
   "outputs": [
    {
     "data": {
      "text/plain": [
       "(3, 2)"
      ]
     },
     "execution_count": 86,
     "metadata": {},
     "output_type": "execute_result"
    }
   ],
   "source": [
    "B = np.array([[1,2],[3,4],[5,6]])\n",
    "B.shape"
   ]
  },
  {
   "cell_type": "code",
   "execution_count": 87,
   "id": "433e91e9",
   "metadata": {
    "ExecuteTime": {
     "end_time": "2025-01-17T06:33:14.242510Z",
     "start_time": "2025-01-17T06:33:14.237510Z"
    }
   },
   "outputs": [
    {
     "data": {
      "text/plain": [
       "array([[22, 28],\n",
       "       [49, 64]])"
      ]
     },
     "execution_count": 87,
     "metadata": {},
     "output_type": "execute_result"
    }
   ],
   "source": [
    "np.dot(A,B)"
   ]
  },
  {
   "cell_type": "code",
   "execution_count": 88,
   "id": "274f6cc2",
   "metadata": {
    "ExecuteTime": {
     "end_time": "2025-01-17T06:33:33.678270Z",
     "start_time": "2025-01-17T06:33:33.673637Z"
    }
   },
   "outputs": [
    {
     "data": {
      "text/plain": [
       "(2, 2)"
      ]
     },
     "execution_count": 88,
     "metadata": {},
     "output_type": "execute_result"
    }
   ],
   "source": [
    "C = np.array([[1,2],[3,4]])\n",
    "C.shape"
   ]
  },
  {
   "cell_type": "code",
   "execution_count": 89,
   "id": "725c6f0e",
   "metadata": {
    "ExecuteTime": {
     "end_time": "2025-01-17T06:33:38.320977Z",
     "start_time": "2025-01-17T06:33:38.315950Z"
    }
   },
   "outputs": [
    {
     "data": {
      "text/plain": [
       "(2, 3)"
      ]
     },
     "execution_count": 89,
     "metadata": {},
     "output_type": "execute_result"
    }
   ],
   "source": [
    "A.shape"
   ]
  },
  {
   "cell_type": "code",
   "execution_count": 90,
   "id": "eb37cc9c",
   "metadata": {
    "ExecuteTime": {
     "end_time": "2025-01-17T06:33:47.003076Z",
     "start_time": "2025-01-17T06:33:46.984167Z"
    }
   },
   "outputs": [
    {
     "ename": "ValueError",
     "evalue": "shapes (2,3) and (2,2) not aligned: 3 (dim 1) != 2 (dim 0)",
     "output_type": "error",
     "traceback": [
      "\u001b[1;31m---------------------------------------------------------------------------\u001b[0m",
      "\u001b[1;31mValueError\u001b[0m                                Traceback (most recent call last)",
      "Cell \u001b[1;32mIn[90], line 1\u001b[0m\n\u001b[1;32m----> 1\u001b[0m np\u001b[38;5;241m.\u001b[39mdot(A,C)\n",
      "\u001b[1;31mValueError\u001b[0m: shapes (2,3) and (2,2) not aligned: 3 (dim 1) != 2 (dim 0)"
     ]
    }
   ],
   "source": [
    "np.dot(A,C)"
   ]
  },
  {
   "cell_type": "code",
   "execution_count": 91,
   "id": "7b6bf3ae",
   "metadata": {
    "ExecuteTime": {
     "end_time": "2025-01-17T06:34:10.620561Z",
     "start_time": "2025-01-17T06:34:10.614199Z"
    }
   },
   "outputs": [
    {
     "data": {
      "text/plain": [
       "(3, 2)"
      ]
     },
     "execution_count": 91,
     "metadata": {},
     "output_type": "execute_result"
    }
   ],
   "source": [
    "A = np.array([[1,2],[3,4],[5,6]])\n",
    "A.shape"
   ]
  },
  {
   "cell_type": "code",
   "execution_count": 94,
   "id": "46363836",
   "metadata": {
    "ExecuteTime": {
     "end_time": "2025-01-17T06:34:55.031233Z",
     "start_time": "2025-01-17T06:34:55.026062Z"
    }
   },
   "outputs": [
    {
     "data": {
      "text/plain": [
       "(2,)"
      ]
     },
     "execution_count": 94,
     "metadata": {},
     "output_type": "execute_result"
    }
   ],
   "source": [
    "B = np.array([7,8])\n",
    "B.shape"
   ]
  },
  {
   "cell_type": "code",
   "execution_count": 95,
   "id": "84ad4a6f",
   "metadata": {
    "ExecuteTime": {
     "end_time": "2025-01-17T06:34:55.688605Z",
     "start_time": "2025-01-17T06:34:55.682830Z"
    }
   },
   "outputs": [
    {
     "data": {
      "text/plain": [
       "array([23, 53, 83])"
      ]
     },
     "execution_count": 95,
     "metadata": {},
     "output_type": "execute_result"
    }
   ],
   "source": [
    "np.dot(A,B)"
   ]
  },
  {
   "cell_type": "markdown",
   "id": "35b3596d",
   "metadata": {},
   "source": [
    "### 3.3.3 신경망에서의 행렬 곱"
   ]
  },
  {
   "cell_type": "code",
   "execution_count": 96,
   "id": "70d05936",
   "metadata": {
    "ExecuteTime": {
     "end_time": "2025-01-17T06:35:38.956055Z",
     "start_time": "2025-01-17T06:35:38.950550Z"
    }
   },
   "outputs": [
    {
     "data": {
      "text/plain": [
       "(2,)"
      ]
     },
     "execution_count": 96,
     "metadata": {},
     "output_type": "execute_result"
    }
   ],
   "source": [
    "X = np.array([1,2])\n",
    "X.shape"
   ]
  },
  {
   "cell_type": "code",
   "execution_count": 97,
   "id": "5efe490d",
   "metadata": {
    "ExecuteTime": {
     "end_time": "2025-01-17T06:35:58.257919Z",
     "start_time": "2025-01-17T06:35:58.253759Z"
    }
   },
   "outputs": [
    {
     "name": "stdout",
     "output_type": "stream",
     "text": [
      "[[1 3 5]\n",
      " [2 4 6]]\n"
     ]
    }
   ],
   "source": [
    "W = np.array([[1,3,5],[2,4,6]])\n",
    "print(W)"
   ]
  },
  {
   "cell_type": "code",
   "execution_count": 98,
   "id": "7afd183a",
   "metadata": {
    "ExecuteTime": {
     "end_time": "2025-01-17T06:36:02.330429Z",
     "start_time": "2025-01-17T06:36:02.325966Z"
    }
   },
   "outputs": [
    {
     "data": {
      "text/plain": [
       "(2, 3)"
      ]
     },
     "execution_count": 98,
     "metadata": {},
     "output_type": "execute_result"
    }
   ],
   "source": [
    "W.shape"
   ]
  },
  {
   "cell_type": "code",
   "execution_count": 99,
   "id": "8a16156c",
   "metadata": {
    "ExecuteTime": {
     "end_time": "2025-01-17T06:36:14.356362Z",
     "start_time": "2025-01-17T06:36:14.351312Z"
    }
   },
   "outputs": [
    {
     "name": "stdout",
     "output_type": "stream",
     "text": [
      "[ 5 11 17]\n"
     ]
    }
   ],
   "source": [
    "Y = np.dot(X,W)\n",
    "print(Y)"
   ]
  },
  {
   "cell_type": "code",
   "execution_count": null,
   "id": "92cefeab",
   "metadata": {},
   "outputs": [],
   "source": []
  }
 ],
 "metadata": {
  "kernelspec": {
   "display_name": "Python 3 (ipykernel)",
   "language": "python",
   "name": "python3"
  },
  "language_info": {
   "codemirror_mode": {
    "name": "ipython",
    "version": 3
   },
   "file_extension": ".py",
   "mimetype": "text/x-python",
   "name": "python",
   "nbconvert_exporter": "python",
   "pygments_lexer": "ipython3",
   "version": "3.11.5"
  }
 },
 "nbformat": 4,
 "nbformat_minor": 5
}
